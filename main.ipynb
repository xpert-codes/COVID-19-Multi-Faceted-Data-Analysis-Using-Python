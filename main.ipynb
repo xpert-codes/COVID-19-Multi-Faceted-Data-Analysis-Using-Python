{
 "cells": [
  {
   "cell_type": "markdown",
   "id": "90e903ff",
   "metadata": {},
   "source": [
    "# Project Title: Exploring the Impact of COVID-19: A Multi-faceted Analysis"
   ]
  },
  {
   "cell_type": "markdown",
   "id": "619f0c2f",
   "metadata": {},
   "source": [
    "# Temporal Analysis:\n",
    "\n",
    "## Evolution of COVID-19 Cases, Deaths, and Recoveries:\n",
    "\n",
    "Early Phase (December 2019 - March 2020): Initial outbreak in Wuhan, China, followed by gradual global spread. Exponential growth in cases, concentrated in Asia and Europe.\n",
    "\n",
    "First Wave (April 2020 - June 2020): Widespread community transmission across continents. Lockdowns and public health measures implemented globally, leading to a plateau in cases in some regions.\n",
    "\n",
    "Summer 2020: Relative lull in transmission for some countries, while others experienced secondary waves.\n",
    "Fall/Winter 2020-2021: Resurgence of cases driven by colder weather and new virus variants. Record highs in daily cases and deaths globally.\n",
    "\n",
    "Vaccination Rollout (2021 onwards): Gradual decline in cases and deaths in countries with high vaccination rates. Emergence of new variants posing challenges.\n",
    "\n",
    "Present Day (January 2024): Fluctuations in case numbers depending on variant dominance and public health measures. Focus on managing long-term impacts and equitable access to vaccines and boosters.\n",
    "\n",
    "## Key Milestones:\n",
    "\n",
    "December 2019: First reported cases in Wuhan, China.\n",
    "\n",
    "January 2020: WHO declares COVID-19 a public health emergency.\n",
    "\n",
    "March 2020: Pandemic declared.\n",
    "\n",
    "December 2020: First vaccines approved for emergency use.\n",
    "\n",
    "January 2021: Vaccination campaigns begin globally.\n",
    "\n",
    "November 2021: New omicron variant detected, causing another wave of infections."
   ]
  },
  {
   "cell_type": "markdown",
   "id": "36b448dc",
   "metadata": {},
   "source": [
    "# Geographic Distribution:\n",
    "## Regions and Countries:\n",
    "\n",
    "Highest case burden: North America, Europe, South America, India, Southeast Asia.\n",
    "\n",
    "Highest death rates: Central and Eastern Europe, South America, Africa.\n",
    "\n",
    "Highest recovery rates: Oceania, Western Europe, East Asia."
   ]
  },
  {
   "cell_type": "markdown",
   "id": "321a75d5",
   "metadata": {},
   "source": [
    "# Data Collection:"
   ]
  },
  {
   "cell_type": "code",
   "execution_count": null,
   "id": "03d77bac",
   "metadata": {
    "execution": {
     "iopub.execute_input": "2023-09-11T05:42:50.194726Z",
     "iopub.status.busy": "2023-09-11T05:42:50.194051Z",
     "iopub.status.idle": "2023-09-11T05:42:52.076838Z",
     "shell.execute_reply": "2023-09-11T05:42:52.074886Z"
    },
    "papermill": {
     "duration": 1.90488,
     "end_time": "2023-09-11T05:42:52.081071",
     "exception": false,
     "start_time": "2023-09-11T05:42:50.176191",
     "status": "completed"
    },
    "tags": []
   },
   "outputs": [],
   "source": [
    "import pandas as pd # data manipulation , analysis, cleaning \n",
    "import numpy as np # mathmatical calculations\n",
    "import plotly.express as px\n",
    "import plotly.graph_objects as go\n",
    "from plotly.subplots import make_subplots"
   ]
  },
  {
   "cell_type": "code",
   "execution_count": null,
   "id": "dd74066a",
   "metadata": {
    "execution": {
     "iopub.execute_input": "2023-09-11T05:42:52.177204Z",
     "iopub.status.busy": "2023-09-11T05:42:52.175178Z",
     "iopub.status.idle": "2023-09-11T05:42:55.102177Z",
     "shell.execute_reply": "2023-09-11T05:42:55.100937Z"
    },
    "papermill": {
     "duration": 2.94789,
     "end_time": "2023-09-11T05:42:55.105878",
     "exception": false,
     "start_time": "2023-09-11T05:42:52.157988",
     "status": "completed"
    },
    "tags": []
   },
   "outputs": [],
   "source": [
    "country_wise = pd.read_csv('dataset/country_wise_latest.csv')\n",
    "day_wise = pd.read_csv('dataset/day_wise.csv')\n",
    "worldometer_data = pd.read_csv('dataset/worldometer_data.csv')\n",
    "DD_CW1 = pd.read_csv('dataset/full_grouped.csv')\n",
    "DD_CW2 = pd.read_csv('dataset/covid_19_clean_complete.csv')\n",
    "# usa = pd.read_csv('dataset/usa_county_wise.csv')"
   ]
  },
  {
   "cell_type": "markdown",
   "id": "eb15c616",
   "metadata": {},
   "source": [
    "# Data Exploration:"
   ]
  },
  {
   "cell_type": "markdown",
   "id": "dd1a91aa",
   "metadata": {
    "papermill": {
     "duration": 0.014569,
     "end_time": "2023-09-11T05:42:55.202947",
     "exception": false,
     "start_time": "2023-09-11T05:42:55.188378",
     "status": "completed"
    },
    "tags": []
   },
   "source": [
    "# Country wise Analysis"
   ]
  },
  {
   "cell_type": "code",
   "execution_count": null,
   "id": "e1f3118f",
   "metadata": {
    "execution": {
     "iopub.execute_input": "2023-09-11T05:42:55.233427Z",
     "iopub.status.busy": "2023-09-11T05:42:55.233025Z",
     "iopub.status.idle": "2023-09-11T05:42:55.263941Z",
     "shell.execute_reply": "2023-09-11T05:42:55.262642Z"
    },
    "papermill": {
     "duration": 0.049639,
     "end_time": "2023-09-11T05:42:55.266976",
     "exception": false,
     "start_time": "2023-09-11T05:42:55.217337",
     "status": "completed"
    },
    "tags": []
   },
   "outputs": [],
   "source": [
    "country_wise.head()"
   ]
  },
  {
   "cell_type": "markdown",
   "id": "26888ddd",
   "metadata": {
    "papermill": {
     "duration": 0.01397,
     "end_time": "2023-09-11T05:42:55.295568",
     "exception": false,
     "start_time": "2023-09-11T05:42:55.281598",
     "status": "completed"
    },
    "tags": []
   },
   "source": [
    "## 1. Total confirmed cases from each country"
   ]
  },
  {
   "cell_type": "code",
   "execution_count": null,
   "id": "d285e76d",
   "metadata": {
    "execution": {
     "iopub.execute_input": "2023-09-11T05:42:55.326264Z",
     "iopub.status.busy": "2023-09-11T05:42:55.325846Z",
     "iopub.status.idle": "2023-09-11T05:42:57.499626Z",
     "shell.execute_reply": "2023-09-11T05:42:57.498405Z"
    },
    "papermill": {
     "duration": 2.192711,
     "end_time": "2023-09-11T05:42:57.502645",
     "exception": false,
     "start_time": "2023-09-11T05:42:55.309934",
     "status": "completed"
    },
    "tags": []
   },
   "outputs": [],
   "source": [
    "def plot_map(df, location_names,location_mode,data_col,scope,hover_name=None,title=None,palette='Sunset'):\n",
    "    if hover_name == None: \n",
    "        hover_name = location_names\n",
    "    fig = px.choropleth(df, \n",
    "                        locations=location_names,\n",
    "                        locationmode =location_mode,\n",
    "                        color = data_col,\n",
    "                        scope = scope,\n",
    "                        hover_name = hover_name,\n",
    "                        hover_data = data_col,\n",
    "                        title = title,\n",
    "                        color_continuous_scale = palette)\n",
    "    fig.update_layout(margin={\"r\":0,\"l\":0,\"b\":0})\n",
    "    fig.show()\n",
    "    \n",
    "plot_map(country_wise,location_names='Country/Region',location_mode='country names',data_col='Confirmed',scope='world',palette='Peach',title='Confirmed cases in world')\n",
    "# plot_map(country_wise,location_names='Country/Region',location_mode='country names',data_col='Deaths',scope='world',palette='amp', title='Death cases in world')\n",
    "plot_map(country_wise,location_names='Country/Region',location_mode='country names',data_col='Recovered',scope='world',palette='Greens',title='Recovered cases in world')\n",
    "# plot_map(country_wise,location_names='Country/Region',location_mode='country names',data_col='Active',scope='world',palette='Oranges',title='Active cases in world')"
   ]
  },
  {
   "cell_type": "markdown",
   "id": "fae8cbc3",
   "metadata": {
    "papermill": {
     "duration": 0.017044,
     "end_time": "2023-09-11T05:42:57.537637",
     "exception": false,
     "start_time": "2023-09-11T05:42:57.520593",
     "status": "completed"
    },
    "tags": []
   },
   "source": [
    "* USA has most number of confirmed cases approx. - (4.29M) followed by Brazil - (2.44M) and India - (1.48M).\n",
    "* USA stood first with highest number of Death cases - (148K) followed by Brazil - (87.6K) and India - (33.4K) cases respectively. It has highest number of Active cases as well with 2.81M cases.\n",
    "* In Recovered cases , Brazil has over 1.84M cases followed by USA - 1.32M and India - 951.16K cases."
   ]
  },
  {
   "cell_type": "code",
   "execution_count": null,
   "id": "67364373",
   "metadata": {
    "execution": {
     "iopub.execute_input": "2023-09-11T05:42:57.573603Z",
     "iopub.status.busy": "2023-09-11T05:42:57.572932Z",
     "iopub.status.idle": "2023-09-11T05:42:57.753495Z",
     "shell.execute_reply": "2023-09-11T05:42:57.752556Z"
    },
    "papermill": {
     "duration": 0.201174,
     "end_time": "2023-09-11T05:42:57.755985",
     "exception": false,
     "start_time": "2023-09-11T05:42:57.554811",
     "status": "completed"
    },
    "tags": []
   },
   "outputs": [],
   "source": [
    "# top 30 countries\n",
    "\n",
    "def get_countries(df,col,color=px.colors.qualitative.Light24):\n",
    "    highest_col_cases = df.sort_values(col,ascending=False)[:30]\n",
    "\n",
    "    fig = px.bar(highest_col_cases, \n",
    "                 x='Country/Region',\n",
    "                 y=col,\n",
    "                 color='WHO Region',\n",
    "                 title=f'Top 30 Countries with highest {col} cases',\n",
    "                 text_auto='.2s',\n",
    "                 color_discrete_sequence=color\n",
    "                 )\n",
    "    fig.update_traces(textfont_size=12, textangle=0, textposition=\"outside\", cliponaxis=False)\n",
    "    fig.update_layout(xaxis_categoryorder = 'total descending')\n",
    "    fig.show()\n",
    "    \n",
    "get_countries(df=country_wise,col='Confirmed',color=px.colors.qualitative.Prism)"
   ]
  },
  {
   "cell_type": "code",
   "execution_count": null,
   "id": "b7aedfd5",
   "metadata": {
    "execution": {
     "iopub.execute_input": "2023-09-11T05:42:57.791210Z",
     "iopub.status.busy": "2023-09-11T05:42:57.790713Z",
     "iopub.status.idle": "2023-09-11T05:42:57.918574Z",
     "shell.execute_reply": "2023-09-11T05:42:57.916990Z"
    },
    "papermill": {
     "duration": 0.148344,
     "end_time": "2023-09-11T05:42:57.921137",
     "exception": false,
     "start_time": "2023-09-11T05:42:57.772793",
     "status": "completed"
    },
    "tags": []
   },
   "outputs": [],
   "source": [
    "get_countries(country_wise,'Deaths',px.colors.qualitative.Set1)"
   ]
  },
  {
   "cell_type": "code",
   "execution_count": null,
   "id": "8408f63f",
   "metadata": {
    "execution": {
     "iopub.execute_input": "2023-09-11T05:42:57.956452Z",
     "iopub.status.busy": "2023-09-11T05:42:57.955934Z",
     "iopub.status.idle": "2023-09-11T05:42:58.085551Z",
     "shell.execute_reply": "2023-09-11T05:42:58.084571Z"
    },
    "papermill": {
     "duration": 0.150704,
     "end_time": "2023-09-11T05:42:58.088370",
     "exception": false,
     "start_time": "2023-09-11T05:42:57.937666",
     "status": "completed"
    },
    "tags": []
   },
   "outputs": [],
   "source": [
    "get_countries(country_wise,'Recovered',px.colors.qualitative.Dark2)"
   ]
  },
  {
   "cell_type": "code",
   "execution_count": null,
   "id": "7bd988f1",
   "metadata": {
    "execution": {
     "iopub.execute_input": "2023-09-11T05:42:58.127241Z",
     "iopub.status.busy": "2023-09-11T05:42:58.126203Z",
     "iopub.status.idle": "2023-09-11T05:42:58.239470Z",
     "shell.execute_reply": "2023-09-11T05:42:58.238325Z"
    },
    "papermill": {
     "duration": 0.13505,
     "end_time": "2023-09-11T05:42:58.242148",
     "exception": false,
     "start_time": "2023-09-11T05:42:58.107098",
     "status": "completed"
    },
    "tags": []
   },
   "outputs": [],
   "source": [
    "get_countries(country_wise,'1 week % increase',px.colors.qualitative.Set2)"
   ]
  },
  {
   "cell_type": "markdown",
   "id": "71df03d3",
   "metadata": {
    "papermill": {
     "duration": 0.018227,
     "end_time": "2023-09-11T05:42:58.279982",
     "exception": false,
     "start_time": "2023-09-11T05:42:58.261755",
     "status": "completed"
    },
    "tags": []
   },
   "source": [
    "The above bar charts shows top 30 countries with Confirmed, Recovered , Active and 1 week % increase cases in world."
   ]
  },
  {
   "cell_type": "markdown",
   "id": "71fe76dc",
   "metadata": {},
   "source": [
    "# Data Analysis:"
   ]
  },
  {
   "cell_type": "markdown",
   "id": "02b466cd",
   "metadata": {
    "papermill": {
     "duration": 0.018577,
     "end_time": "2023-09-11T05:42:58.317395",
     "exception": false,
     "start_time": "2023-09-11T05:42:58.298818",
     "status": "completed"
    },
    "tags": []
   },
   "source": [
    "## Day wise"
   ]
  },
  {
   "cell_type": "code",
   "execution_count": null,
   "id": "e36ba990",
   "metadata": {
    "execution": {
     "iopub.execute_input": "2023-09-11T05:42:58.356960Z",
     "iopub.status.busy": "2023-09-11T05:42:58.356502Z",
     "iopub.status.idle": "2023-09-11T05:42:58.374341Z",
     "shell.execute_reply": "2023-09-11T05:42:58.373393Z"
    },
    "papermill": {
     "duration": 0.040699,
     "end_time": "2023-09-11T05:42:58.376865",
     "exception": false,
     "start_time": "2023-09-11T05:42:58.336166",
     "status": "completed"
    },
    "tags": []
   },
   "outputs": [],
   "source": [
    "day_wise.head(10)"
   ]
  },
  {
   "cell_type": "code",
   "execution_count": null,
   "id": "d35a56b3",
   "metadata": {
    "execution": {
     "iopub.execute_input": "2023-09-11T05:42:58.416881Z",
     "iopub.status.busy": "2023-09-11T05:42:58.416281Z",
     "iopub.status.idle": "2023-09-11T05:42:58.447999Z",
     "shell.execute_reply": "2023-09-11T05:42:58.446863Z"
    },
    "papermill": {
     "duration": 0.055257,
     "end_time": "2023-09-11T05:42:58.450971",
     "exception": false,
     "start_time": "2023-09-11T05:42:58.395714",
     "status": "completed"
    },
    "tags": []
   },
   "outputs": [],
   "source": [
    "fig = go.Figure()\n",
    "fig.add_trace(go.Scatter(x=day_wise.Date, y=day_wise.Confirmed,\n",
    "                         name='Confirmed',\n",
    "                         mode='lines+markers',\n",
    "                         fill='tozeroy'\n",
    "                    ))\n",
    "fig.add_trace(go.Scatter(x=day_wise.Date, y=day_wise.Deaths,\n",
    "                         name='Deaths',\n",
    "                         mode= 'lines+markers',\n",
    "                         fill='tozeroy'))\n",
    "fig.add_trace(go.Scatter(x=day_wise.Date, y=day_wise.Recovered,\n",
    "                         name='Recovered',\n",
    "                         mode= 'lines+markers',\n",
    "                         fill='tozeroy'))\n",
    "\n",
    "fig.update_layout(title='Cases over time',\n",
    "                 xaxis_title='Dates',\n",
    "                 yaxis_title='Population')\n",
    "\n",
    "fig.show()"
   ]
  },
  {
   "cell_type": "markdown",
   "id": "3816d42c",
   "metadata": {
    "papermill": {
     "duration": 0.019685,
     "end_time": "2023-09-11T05:42:58.489603",
     "exception": false,
     "start_time": "2023-09-11T05:42:58.469918",
     "status": "completed"
    },
    "tags": []
   },
   "source": [
    "Till July 27th, there were around 16.48M confirmed cases, 9.46M recovered cases and 654K deaths in world."
   ]
  },
  {
   "cell_type": "code",
   "execution_count": null,
   "id": "1097f350",
   "metadata": {
    "execution": {
     "iopub.execute_input": "2023-09-11T05:42:58.530154Z",
     "iopub.status.busy": "2023-09-11T05:42:58.529530Z",
     "iopub.status.idle": "2023-09-11T05:42:58.624372Z",
     "shell.execute_reply": "2023-09-11T05:42:58.623339Z"
    },
    "papermill": {
     "duration": 0.117538,
     "end_time": "2023-09-11T05:42:58.626648",
     "exception": false,
     "start_time": "2023-09-11T05:42:58.509110",
     "status": "completed"
    },
    "tags": []
   },
   "outputs": [],
   "source": [
    "fig = px.bar(day_wise, \n",
    "             x=\"Date\",\n",
    "             y=[\"Deaths / 100 Cases\",'Recovered / 100 Cases'],\n",
    "             color_discrete_map = {'Deaths / 100 Cases': '#d43d3d', \n",
    "                                  'Recovered / 100 Cases': '#94e864',\n",
    "                                  },\n",
    "             barmode=\"stack\",\n",
    "             title='Change in Death and Recovered per 100 cases over time')\n",
    "fig.show()"
   ]
  },
  {
   "cell_type": "markdown",
   "id": "5d1df666",
   "metadata": {
    "papermill": {
     "duration": 0.017884,
     "end_time": "2023-09-11T05:42:58.663140",
     "exception": false,
     "start_time": "2023-09-11T05:42:58.645256",
     "status": "completed"
    },
    "tags": []
   },
   "source": [
    "* The ratio of recovery cases with confirmed cases were much higher at all times than ratio of Death cases with confirmed cases. \n",
    "* On average around 34 recovered cases and 5 death cases were there out of 100 cases ."
   ]
  },
  {
   "cell_type": "code",
   "execution_count": null,
   "id": "635c0b2d",
   "metadata": {
    "execution": {
     "iopub.execute_input": "2023-09-11T05:42:58.703032Z",
     "iopub.status.busy": "2023-09-11T05:42:58.702548Z",
     "iopub.status.idle": "2023-09-11T05:42:58.756014Z",
     "shell.execute_reply": "2023-09-11T05:42:58.754777Z"
    },
    "papermill": {
     "duration": 0.076935,
     "end_time": "2023-09-11T05:42:58.759004",
     "exception": false,
     "start_time": "2023-09-11T05:42:58.682069",
     "status": "completed"
    },
    "tags": []
   },
   "outputs": [],
   "source": [
    "# parsing dates\n",
    "DD_CW1['Date'] = pd.to_datetime(DD_CW1['Date'],errors='raise')\n",
    "DD_CW1['month'] = DD_CW1['Date'].dt.month\n",
    "DD_CW1['weekday'] = DD_CW1['Date'].dt.day_name()\n",
    "DD_CW1.head(10)"
   ]
  },
  {
   "cell_type": "code",
   "execution_count": null,
   "id": "590d863b",
   "metadata": {
    "execution": {
     "iopub.execute_input": "2023-09-11T05:42:58.862130Z",
     "iopub.status.busy": "2023-09-11T05:42:58.861733Z",
     "iopub.status.idle": "2023-09-11T05:42:59.319193Z",
     "shell.execute_reply": "2023-09-11T05:42:59.317740Z"
    },
    "papermill": {
     "duration": 0.480459,
     "end_time": "2023-09-11T05:42:59.321850",
     "exception": false,
     "start_time": "2023-09-11T05:42:58.841391",
     "status": "completed"
    },
    "tags": []
   },
   "outputs": [],
   "source": [
    "def plot_bubble(df, x, y, color=None, size=None, palette=px.colors.qualitative.G10,log=True):\n",
    "    fig = px.scatter(df,\n",
    "                     x=x,\n",
    "                     y=y,\n",
    "                     size=size,\n",
    "                     color=color,\n",
    "                     hover_name=\"Country/Region\",\n",
    "                     size_max=50,\n",
    "                     color_discrete_sequence=palette,\n",
    "                     title=f'{x} Versus {y} across countries coloured by {color}',\n",
    "                     log_y=log,\n",
    "                     log_x=log)\n",
    "    fig.show()\n",
    "    \n",
    "plot_bubble(df=worldometer_data, x=\"TotalCases\", y=\"TotalDeaths\", size=\"Population\", color=\"WHO Region\", palette=px.colors.qualitative.G10)\n",
    "plot_bubble(df=worldometer_data, x=\"TotalCases\", y=\"TotalRecovered\", size=\"Population\", color=\"WHO Region\", palette=px.colors.qualitative.Dark2)\n",
    "# plot_bubble(df=worldometer_data, x=\"TotalCases\", y=\"ActiveCases\", size=\"Population\", color=\"WHO Region\", palette=px.colors.qualitative.D3)\n",
    "# plot_bubble(df=worldometer_data, x=\"TotalCases\", y=\"Serious,Critical\", size=\"Population\", color=\"WHO Region\", palette=px.colors.qualitative.Light24)"
   ]
  },
  {
   "cell_type": "markdown",
   "id": "134e1de9",
   "metadata": {
    "papermill": {
     "duration": 0.019996,
     "end_time": "2023-09-11T05:42:59.362160",
     "exception": false,
     "start_time": "2023-09-11T05:42:59.342164",
     "status": "completed"
    },
    "tags": []
   },
   "source": [
    "With increase in total cases, deaths, recovered, active and serious cases also increased."
   ]
  },
  {
   "cell_type": "markdown",
   "id": "f422af6d",
   "metadata": {},
   "source": [
    "# Technical and Analytical Approach:"
   ]
  },
  {
   "cell_type": "code",
   "execution_count": null,
   "id": "062db442",
   "metadata": {
    "execution": {
     "iopub.execute_input": "2023-09-11T05:42:59.404598Z",
     "iopub.status.busy": "2023-09-11T05:42:59.404048Z",
     "iopub.status.idle": "2023-09-11T05:43:06.469775Z",
     "shell.execute_reply": "2023-09-11T05:43:06.468786Z"
    },
    "papermill": {
     "duration": 7.116594,
     "end_time": "2023-09-11T05:43:06.498879",
     "exception": false,
     "start_time": "2023-09-11T05:42:59.382285",
     "status": "completed"
    },
    "tags": []
   },
   "outputs": [],
   "source": [
    "def plot_bar(df, x, y,palette=px.colors.qualitative.Pastel):\n",
    "    weekday_order = ['Monday','Tuesday','Wednesday','Thursday','Friday','Saturday','Sunday']\n",
    "    fig=px.bar(DD_CW1,\n",
    "               x=x,\n",
    "               y=y,\n",
    "               facet_col='month',\n",
    "               color='Country/Region',\n",
    "               category_orders={\"weekday\": weekday_order},\n",
    "               color_discrete_sequence=palette,\n",
    "               title=f'{y} cases from each country on different {x} through different months')\n",
    "    fig.show()\n",
    "    \n",
    "plot_bar(DD_CW1, 'weekday', 'Confirmed',px.colors.qualitative.Safe )"
   ]
  },
  {
   "cell_type": "code",
   "execution_count": null,
   "id": "ba5fd2f8",
   "metadata": {
    "execution": {
     "iopub.execute_input": "2023-09-11T05:43:13.580580Z",
     "iopub.status.busy": "2023-09-11T05:43:13.579790Z",
     "iopub.status.idle": "2023-09-11T05:43:20.445216Z",
     "shell.execute_reply": "2023-09-11T05:43:20.443844Z"
    },
    "papermill": {
     "duration": 6.950668,
     "end_time": "2023-09-11T05:43:20.474619",
     "exception": false,
     "start_time": "2023-09-11T05:43:13.523951",
     "status": "completed"
    },
    "tags": []
   },
   "outputs": [],
   "source": [
    "plot_bar(DD_CW1, 'weekday', 'Recovered',px.colors.qualitative.Alphabet )"
   ]
  },
  {
   "cell_type": "markdown",
   "id": "28aa2686",
   "metadata": {
    "papermill": {
     "duration": 0.067522,
     "end_time": "2023-09-11T05:43:20.612626",
     "exception": false,
     "start_time": "2023-09-11T05:43:20.545104",
     "status": "completed"
    },
    "tags": []
   },
   "source": [
    "After June, the total cases coming at each day were very close. UK had most deaths after April."
   ]
  },
  {
   "cell_type": "code",
   "execution_count": null,
   "id": "301c9032",
   "metadata": {
    "execution": {
     "iopub.execute_input": "2023-09-11T05:43:20.742260Z",
     "iopub.status.busy": "2023-09-11T05:43:20.741011Z",
     "iopub.status.idle": "2023-09-11T05:43:23.558816Z",
     "shell.execute_reply": "2023-09-11T05:43:23.557743Z"
    },
    "papermill": {
     "duration": 2.960489,
     "end_time": "2023-09-11T05:43:23.636817",
     "exception": false,
     "start_time": "2023-09-11T05:43:20.676328",
     "status": "completed"
    },
    "tags": []
   },
   "outputs": [],
   "source": [
    "fig = make_subplots(\n",
    "    rows=2, cols=2,\n",
    "    subplot_titles=(\"Date vs Confirmed\", \"Date vs Recovered\"),\n",
    "    shared_xaxes='all')\n",
    "\n",
    "fig.add_trace(go.Scatter(x=DD_CW1['Date'], y=DD_CW1['Confirmed'], marker=dict(color='#FDB344')),\n",
    "              row=1, col=1)\n",
    "\n",
    "fig.add_trace(go.Scatter(x=DD_CW1['Date'], y=DD_CW1['Recovered'], marker=dict(color='#94e864')),\n",
    "              row=1, col=2)\n",
    "\n",
    "fig.update_xaxes(title_text=\"Date\", row=2, col=1)\n",
    "fig.update_xaxes(title_text=\"Date\", row=2, col=2)\n",
    "\n",
    "fig.update_yaxes(title_text=\"Confirmed Cases\", row=1, col=1)\n",
    "fig.update_yaxes(title_text=\"Recovered Cases\", row=1, col=2)\n",
    "\n",
    "fig.update_layout(title_text=\"Subplots showing different stats across Date\", height=700,showlegend=False)\n",
    "\n",
    "fig.show()"
   ]
  },
  {
   "cell_type": "markdown",
   "id": "2577d384",
   "metadata": {
    "papermill": {
     "duration": 0.117102,
     "end_time": "2023-09-11T05:43:23.874439",
     "exception": false,
     "start_time": "2023-09-11T05:43:23.757337",
     "status": "completed"
    },
    "tags": []
   },
   "source": [
    "We see sudden increase in Death cases in May, which are be due to certain nation like UK,US ."
   ]
  },
  {
   "cell_type": "markdown",
   "id": "52898a19",
   "metadata": {
    "papermill": {
     "duration": 0.190077,
     "end_time": "2023-09-11T05:43:30.695663",
     "exception": false,
     "start_time": "2023-09-11T05:43:30.505586",
     "status": "completed"
    },
    "tags": []
   },
   "source": [
    "The above geographical scatter plots shows the covid confirmed cases, recovered, death and active cases with time."
   ]
  }
 ],
 "kernelspec": {
  "display_name": "Python 3",
  "language": "python",
  "name": "python3"
 },
 "language_info": {
  "codemirror_mode": {
   "name": "ipython",
   "version": 3
  },
  "file_extension": ".py",
  "mimetype": "text/x-python",
  "name": "python",
  "nbconvert_exporter": "python",
  "pygments_lexer": "ipython3",
  "version": "3.6.4"
 },
 "metadata": {
  "kernelspec": {
   "display_name": "Python 3",
   "language": "python",
   "name": "python3"
  },
  "language_info": {
   "codemirror_mode": {
    "name": "ipython",
    "version": 3
   },
   "file_extension": ".py",
   "mimetype": "text/x-python",
   "name": "python",
   "nbconvert_exporter": "python",
   "pygments_lexer": "ipython3",
   "version": "3.12.0"
  },
  "papermill": {
   "default_parameters": {},
   "duration": 49.245646,
   "end_time": "2023-09-11T05:43:34.874135",
   "environment_variables": {},
   "exception": null,
   "input_path": "__notebook__.ipynb",
   "output_path": "__notebook__.ipynb",
   "parameters": {},
   "start_time": "2023-09-11T05:42:45.628489",
   "version": "2.4.0"
  }
 },
 "nbformat": 4,
 "nbformat_minor": 5
}
